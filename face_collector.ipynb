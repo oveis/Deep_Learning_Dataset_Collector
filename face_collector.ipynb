{
 "cells": [
  {
   "cell_type": "markdown",
   "metadata": {},
   "source": [
    "### Download face images from google search\n",
    "\n",
    "Python Scrypt for `downloading` images from Google and `saving` faces from the images. \n",
    "\n",
    "#### How does it work?\n",
    "1. Download images from Google by searching `keywords` (Used [google_images_download](https://github.com/hardikvasa/google-images-download))\n",
    "2. Detect `Frontal` and `Profile` faces from the images (Used [opencv-python](https://github.com/skvark/opencv-python))\n",
    "3. Crop and save the face images"
   ]
  },
  {
   "cell_type": "code",
   "execution_count": 1,
   "metadata": {},
   "outputs": [],
   "source": [
    "from google_images_download import google_images_download as gid\n",
    "\n",
    "def download_images(keywords, limit, output_dir):\n",
    "    downloader = gid.googleimagesdownload()\n",
    "    downloader.download({\n",
    "        'keywords': keywords,\n",
    "        \"limit\": limit,\n",
    "        'output_directory': output_dir\n",
    "    })"
   ]
  },
  {
   "cell_type": "code",
   "execution_count": 2,
   "metadata": {},
   "outputs": [],
   "source": [
    "from os import listdir\n",
    "from os.path import exists, isfile, join\n",
    "import cv2 as cv\n",
    "import numpy as np\n",
    "\n",
    "frontalface_cascade = cv.CascadeClassifier('data/haarcascades/haarcascade_frontalface_default.xml')\n",
    "profileface_cascade = cv.CascadeClassifier('data/haarcascades/haarcascade_profileface.xml')\n",
    "\n",
    "\n",
    "def save_faces(img, faces, output_dir, file_id):\n",
    "    if not exists(output_dir):\n",
    "        os.makedirs(output_dir)\n",
    "    \n",
    "    for i in range(len(faces)):\n",
    "        x, y, w, h = faces[i]\n",
    "        face_img = img[y:y+h, x:x+w]\n",
    "        output_file_path = join(output_dir, '{}_{}.jpeg'.format(file_id, i))\n",
    "        cv.imwrite(output_file_path, face_img)\n",
    "    \n",
    "\n",
    "def detect_and_save_faces(images_dir, faces_dir):\n",
    "    file_names = [f for f in listdir(images_dir) if isfile(join(images_dir, f))]\n",
    "    \n",
    "    for file_name in file_names:\n",
    "        file_id = file_name.split('.')[0]\n",
    "        img = cv.imread(join(images_dir, file_name))\n",
    "        gray = cv.cvtColor(img, cv.COLOR_BGR2GRAY)\n",
    "        \n",
    "        frontal_faces = frontalface_cascade.detectMultiScale(gray, 1.3, 5)\n",
    "        save_faces(img, frontal_faces, join(faces_dir, 'frontal'), file_id)\n",
    "        \n",
    "        profile_faces = profileface_cascade.detectMultiScale(gray, 1.3, 5)\n",
    "        save_faces(img, profile_faces, join(faces_dir, 'profile'), file_id)"
   ]
  },
  {
   "cell_type": "code",
   "execution_count": 3,
   "metadata": {},
   "outputs": [
    {
     "name": "stdout",
     "output_type": "stream",
     "text": [
      "\n",
      "Item no.: 1 --> Item name = george clooney\n",
      "Evaluating...\n",
      "Starting Download...\n",
      "Completed Image ====> 1. 220px-George_Clooney_2016.jpg\n",
      "Completed Image ====> 2. MV5BMjEyMTEyOTQ0MV5BMl5BanBnXkFtZTcwNzU3NTMzNw@@._V1_.jpg\n",
      "Completed Image ====> 3. 416x416.jpg\n",
      "Completed Image ====> 4. 220px-George_Clooney-4_The_Men_Who_Stare_at_Goats_TIFF09_%28cropped%29.jpg\n",
      "Completed Image ====> 5. _102457094_pa-clooney.jpg\n",
      "Completed Image ====> 6. george-clooney-net-worth-tequila.jpg\n",
      "Completed Image ====> 7. George_Clooney-300x300.jpg\n",
      "Completed Image ====> 8. george-clooney-5-2000.jpg\n",
      "Completed Image ====> 9. 3a\n",
      "Completed Image ====> 10. 18\n",
      "\n",
      "Errors: 0\n",
      "\n"
     ]
    }
   ],
   "source": [
    "keyword = 'george clooney'\n",
    "num_search_images = 10\n",
    "images_dir = './output/images'\n",
    "faces_dir = './output/faces'\n",
    "\n",
    "download_images(keyword, num_search_images, images_dir)\n",
    "detect_and_save_faces(join(images_dir, keyword), join(faces_dir, keyword))"
   ]
  }
 ],
 "metadata": {
  "kernelspec": {
   "display_name": "Python [conda env:py3]",
   "language": "python",
   "name": "conda-env-py3-py"
  },
  "language_info": {
   "codemirror_mode": {
    "name": "ipython",
    "version": 3
   },
   "file_extension": ".py",
   "mimetype": "text/x-python",
   "name": "python",
   "nbconvert_exporter": "python",
   "pygments_lexer": "ipython3",
   "version": "3.6.7"
  }
 },
 "nbformat": 4,
 "nbformat_minor": 2
}
